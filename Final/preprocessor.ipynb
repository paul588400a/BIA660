{
 "cells": [
  {
   "cell_type": "code",
   "execution_count": 9,
   "metadata": {},
   "outputs": [],
   "source": [
    "import sys;\n",
    "reload(sys);\n",
    "sys.setdefaultencoding(\"utf8\")\n",
    "\n",
    "import csv \n",
    "from string import punctuation\n",
    "import json\n",
    "\n",
    "with open(\"yelp.data\", 'r') as f:\n",
    "    reviews=[]\n",
    "    for line in f: \n",
    "        review = json.loads(line) \n",
    "        reviews.append(review)\n",
    "        \n",
    "print len(reviews)\n",
    "\n",
    "with open(\"yelp_dataset.csv\", \"w\") as f:  \n",
    "            rows = []\n",
    "            for x in reviews:\n",
    "                rows.append((x[\"funny\"],x[\"user_id\"],x[\"review_id\"],x[\"text\"],x[\"business_id\"],x[\"stars\"],x[\"date\"],x[\"useful\"],x[\"cool\"]))\n",
    "            #rows = sorted(rows, key=lambda row: row[1], reverse=True)\n",
    "            #print(rows)\n",
    "            writer=csv.writer(f, delimiter=',')          \n",
    "            writer.writerows(rows)\n"
   ]
  },
  {
   "cell_type": "code",
   "execution_count": null,
   "metadata": {
    "collapsed": true
   },
   "outputs": [],
   "source": []
  },
  {
   "cell_type": "code",
   "execution_count": null,
   "metadata": {
    "collapsed": true
   },
   "outputs": [],
   "source": []
  }
 ],
 "metadata": {
  "kernelspec": {
   "display_name": "Python 2",
   "language": "python",
   "name": "python2"
  },
  "language_info": {
   "codemirror_mode": {
    "name": "ipython",
    "version": 2
   },
   "file_extension": ".py",
   "mimetype": "text/x-python",
   "name": "python",
   "nbconvert_exporter": "python",
   "pygments_lexer": "ipython2",
   "version": "2.7.13"
  }
 },
 "nbformat": 4,
 "nbformat_minor": 2
}
